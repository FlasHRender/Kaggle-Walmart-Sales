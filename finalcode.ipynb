{
  "nbformat": 4,
  "nbformat_minor": 0,
  "metadata": {
    "colab": {
      "name": "finalcode.ipynb",
      "provenance": []
    },
    "kernelspec": {
      "name": "python3",
      "display_name": "Python 3"
    }
  },
  "cells": [
    {
      "cell_type": "code",
      "metadata": {
        "id": "gH32B1UpxHJ6"
      },
      "source": [
        "import numpy as np\n",
        "import matplotlib.pyplot as plt\n",
        "import pandas as pd\n",
        "import math\n",
        "from keras.models import Sequential\n",
        "from sklearn import metrics\n",
        "from keras.layers import Dense\n",
        "from keras.layers import LSTM\n",
        "from sklearn.preprocessing import MinMaxScaler\n",
        "from sklearn.metrics import mean_squared_error\n",
        "from sklearn.model_selection import train_test_split\n",
        "from sklearn.linear_model import LinearRegression\n",
        "from sklearn.ensemble import RandomForestRegressor\n",
        "from sklearn.neural_network import MLPRegressor\n",
        "\n",
        "import keras\n",
        "from keras.layers.core import Dense, Activation, Dropout\n",
        "from keras.layers.recurrent import LSTM\n",
        "from keras.layers import Bidirectional\n",
        "from keras.models import Sequential\n",
        "from keras import regularizers\n",
        "from keras import optimizers"
      ],
      "execution_count": null,
      "outputs": []
    },
    {
      "cell_type": "code",
      "metadata": {
        "id": "a4_Wq3B3xvOk",
        "colab": {
          "base_uri": "https://localhost:8080/",
          "height": 34
        },
        "outputId": "ccc49351-9b02-499e-c380-da5ebd389c50"
      },
      "source": [
        "df = pd.read_csv(\"Train_Kaggle.csv\")\n",
        "df.head()\n",
        "X=df.drop('Sales',axis=1)\n",
        "X=X.drop('Year',axis=1)\n",
        "X=X.drop('Month',axis=1)\n",
        "\n",
        "Y=df['Sales']\n",
        "X_train, X_test, y_train, y_test = train_test_split(X, Y,test_size=0.3)\n",
        "X_test.shape"
      ],
      "execution_count": null,
      "outputs": [
        {
          "output_type": "execute_result",
          "data": {
            "text/plain": [
              "(65, 15)"
            ]
          },
          "metadata": {
            "tags": []
          },
          "execution_count": 134
        }
      ]
    },
    {
      "cell_type": "code",
      "metadata": {
        "id": "h9xuFdJcd5ZI"
      },
      "source": [
        ""
      ],
      "execution_count": null,
      "outputs": []
    },
    {
      "cell_type": "code",
      "metadata": {
        "id": "n9qlgGBFd5MV"
      },
      "source": [
        ""
      ],
      "execution_count": null,
      "outputs": []
    },
    {
      "cell_type": "code",
      "metadata": {
        "id": "KC0uT2eHzIK1"
      },
      "source": [
        "regressor = LinearRegression()  \n",
        "regressor.fit(X_train, y_train)\n",
        "y_pred = regressor.predict(X_test)"
      ],
      "execution_count": null,
      "outputs": []
    },
    {
      "cell_type": "code",
      "metadata": {
        "id": "F4LdRbiHD1ie"
      },
      "source": [
        ""
      ],
      "execution_count": null,
      "outputs": []
    },
    {
      "cell_type": "code",
      "metadata": {
        "id": "jXSo1OwuDU81"
      },
      "source": [
        "regressor=RandomForestRegressor(n_estimators=10,random_state=0)\n",
        "regressor.fit(X_train, y_train)\n",
        "y_pred = regressor.predict(X_test)"
      ],
      "execution_count": null,
      "outputs": []
    },
    {
      "cell_type": "code",
      "metadata": {
        "id": "k22bOuEr_lmq",
        "colab": {
          "base_uri": "https://localhost:8080/",
          "height": 34
        },
        "outputId": "92f7b2a8-6e4f-4a37-856c-88596b2b1341"
      },
      "source": [
        "print('Root Mean Squared Error:', np.sqrt(metrics.mean_squared_error(y_test, y_pred)))"
      ],
      "execution_count": null,
      "outputs": [
        {
          "output_type": "stream",
          "text": [
            "Root Mean Squared Error: 252.89998652000398\n"
          ],
          "name": "stdout"
        }
      ]
    },
    {
      "cell_type": "code",
      "metadata": {
        "id": "G0mdsYzcD7oH",
        "colab": {
          "base_uri": "https://localhost:8080/",
          "height": 86
        },
        "outputId": "45d58c83-0755-439c-818e-b47061ddcd27"
      },
      "source": [
        "df1 = pd.read_csv(\"Test_Kaggle(1).csv\")\n",
        "\n",
        "df1=df1.drop('Year',axis=1)\n",
        "df1=df1.drop('Month',axis=1)\n",
        "df1=df1.drop('Sales',axis=1)\n",
        "df1.head()\n",
        "Y_testing=regressor.predict(df1)\n",
        "print(Y_testing)\n",
        "#df1.head()"
      ],
      "execution_count": null,
      "outputs": [
        {
          "output_type": "stream",
          "text": [
            "[4573.9  642.5 1431.3 4592.2  620.5 1383.4 4650.7  666.3 1413.8 4338.7\n",
            "  791.1 1413.5 4388.8  726.9 1410.9 4574.   714.7 1383.7 4328.3  692.3\n",
            " 1397.9 4396.3  715.6 1405.8 4365.   741.8 1419.8 4364.1  794.2 1382.6\n",
            " 4345.4  782.9 1408.8 5119.4 1037.1 1849.7]\n"
          ],
          "name": "stdout"
        }
      ]
    },
    {
      "cell_type": "code",
      "metadata": {
        "id": "jkWrgO72EqIZ"
      },
      "source": [
        "sub=pd.read_csv(\"Sample_Submission.csv\")\n",
        "sub['Sales(In ThousandDollars)']=Y_testing\n",
        "sub.to_csv(\"final.csv\")"
      ],
      "execution_count": null,
      "outputs": []
    },
    {
      "cell_type": "code",
      "metadata": {
        "id": "12jqNawqIHdo",
        "colab": {
          "base_uri": "https://localhost:8080/",
          "height": 34
        },
        "outputId": "681f1eae-f480-46de-a781-d6d58d3f9f40"
      },
      "source": [
        " regressor = MLPRegressor()\n",
        " regressor.fit(X_train, y_train)\n",
        " y_pred = regressor.predict(X_test)\n",
        " print('Root Mean Squared Error:', np.sqrt(metrics.mean_squared_error(y_test, y_pred)))"
      ],
      "execution_count": null,
      "outputs": [
        {
          "output_type": "stream",
          "text": [
            "Root Mean Squared Error: 1215.304908450564\n"
          ],
          "name": "stdout"
        }
      ]
    },
    {
      "cell_type": "code",
      "metadata": {
        "id": "ZWzoOfH6KUDL",
        "colab": {
          "base_uri": "https://localhost:8080/",
          "height": 34
        },
        "outputId": "2cbf3823-5214-40e7-aeec-7a828cd4d6cf"
      },
      "source": [
        "from sklearn.tree import DecisionTreeRegressor  \n",
        "  \n",
        "# create a regressor object \n",
        "regressor = DecisionTreeRegressor(random_state = 0)  \n",
        "regressor.fit(X_train, y_train)\n",
        "y_pred = regressor.predict(X_test)\n",
        "print('Root Mean Squared Error:', np.sqrt(metrics.mean_squared_error(y_test, y_pred)))"
      ],
      "execution_count": null,
      "outputs": [
        {
          "output_type": "stream",
          "text": [
            "Root Mean Squared Error: 337.62496262067975\n"
          ],
          "name": "stdout"
        }
      ]
    },
    {
      "cell_type": "code",
      "metadata": {
        "id": "ExsFAM3UKoRP",
        "colab": {
          "base_uri": "https://localhost:8080/",
          "height": 34
        },
        "outputId": "082de854-2660-4ae6-ed4a-1c5308eddddd"
      },
      "source": [
        "\n",
        "kf = KFold(n_splits=2)\n",
        "for train_index, test_index in kf.split(X, y):\n",
        "\n",
        "regressor = RandomForestRegressor(n_estimators=100, criterion='mse', max_depth=None, \n",
        "                      min_samples_split=5, min_samples_leaf=1, \n",
        "                      min_weight_fraction_leaf=0.0, max_features='auto', \n",
        "                      max_leaf_nodes=None, min_impurity_decrease=0.0, \n",
        "                      min_impurity_split=None, bootstrap=True, \n",
        "                      oob_score=False, n_jobs=1, random_state=0, \n",
        "                      verbose=0, warm_start=True)\n",
        "\n",
        "#Train on data\n",
        "#rf_model.fit(train[selector], train['Difference'])\n",
        "regressor.fit(X_train, y_train)\n",
        "y_pred = regressor.predict(X_test)\n",
        "print('Root Mean Squared Error:', np.sqrt(metrics.mean_squared_error(y_test, y_pred)))"
      ],
      "execution_count": null,
      "outputs": [
        {
          "output_type": "stream",
          "text": [
            "Root Mean Squared Error: 266.5948917513599\n"
          ],
          "name": "stdout"
        }
      ]
    },
    {
      "cell_type": "code",
      "metadata": {
        "id": "wGt4gV5OOQEM",
        "colab": {
          "base_uri": "https://localhost:8080/",
          "height": 34
        },
        "outputId": "363cae4a-5229-4f79-ff92-43ce8761c706"
      },
      "source": [
        "adam_regularized = Sequential()\n",
        "adam_regularized.add(Dense(32,activation='relu',\n",
        "                    input_dim=X_train.shape[1],\n",
        "                    kernel_regularizer = regularizers.l2(0.01)))\n",
        "adam_regularized.add(Dense(16,activation='relu',\n",
        "                       kernel_regularizer = regularizers.l2(0.01)))\n",
        "\n",
        "    # Output layer stayed sigmoid\n",
        "adam_regularized.add(Dense(1,activation='linear'))\n",
        "\n",
        "    # Setup adam optimizer\n",
        "adam_optimizer=keras.optimizers.Adam(lr=0.001,\n",
        "                    beta_1=0.9, \n",
        "                    beta_2=0.999, \n",
        "                    epsilon=1e-08)\n",
        "\n",
        "    # Compile the model\n",
        "adam_regularized.compile(optimizer=adam_optimizer,\n",
        "                  loss='mean_absolute_error',\n",
        "                  metrics=['acc'])\n",
        "history_adam_regularized=adam_regularized.fit(X_train, y_train, # Train on training set\n",
        "                                 epochs=10, # We will train over 1,000 epochs # Batch size \n",
        "                                 verbose=0)\n",
        "y_pred = adam_regularized.predict(X_test)\n",
        "print('Root Mean Squared Error:', np.sqrt(metrics.mean_squared_error(y_test, y_pred)))"
      ],
      "execution_count": null,
      "outputs": [
        {
          "output_type": "stream",
          "text": [
            "Root Mean Squared Error: 1125.1210541223277\n"
          ],
          "name": "stdout"
        }
      ]
    },
    {
      "cell_type": "code",
      "metadata": {
        "id": "KCYWDbz3R0ZS"
      },
      "source": [
        "from sklearn import ensemble"
      ],
      "execution_count": null,
      "outputs": []
    },
    {
      "cell_type": "code",
      "metadata": {
        "id": "AfpqmuCzR0QC",
        "colab": {
          "base_uri": "https://localhost:8080/",
          "height": 34
        },
        "outputId": "d44361a8-392f-4bf4-a3ea-a9022dd52d6d"
      },
      "source": [
        "gradient_boosting_regressor = ensemble.GradientBoostingRegressor(n_estimators=100,  max_depth=None, min_samples_split=14,  warm_start = True)\n",
        "gradient_boosting_regressor.fit(X_train, y_train)\n",
        "y_pred = gradient_boosting_regressor.predict(X_test)\n",
        "print('Root Mean Squared Error:', np.sqrt(metrics.mean_squared_error(y_test, y_pred)))"
      ],
      "execution_count": null,
      "outputs": [
        {
          "output_type": "stream",
          "text": [
            "Root Mean Squared Error: 253.25848534922022\n"
          ],
          "name": "stdout"
        }
      ]
    },
    {
      "cell_type": "code",
      "metadata": {
        "id": "uoC6JP3WbXv5"
      },
      "source": [
        "from sklearn.preprocessing import StandardScaler\n",
        "sc_X = StandardScaler()\n",
        "sc_y = StandardScaler()\n",
        "yt=np.array(y_train)\n",
        "yt=yt.reshape(-1,1)\n",
        "X = sc_X.fit_transform(X_train)\n",
        "y = sc_y.fit_transform(yt)"
      ],
      "execution_count": null,
      "outputs": []
    },
    {
      "cell_type": "code",
      "metadata": {
        "id": "VgSRjgevcJjf",
        "colab": {
          "base_uri": "https://localhost:8080/",
          "height": 69
        },
        "outputId": "f44bf701-1e48-40cc-9968-8c8dad734e3c"
      },
      "source": [
        "from sklearn.svm import SVR\n",
        "regressor = SVR(kernel='rbf')\n",
        "regressor.fit(X,y)"
      ],
      "execution_count": null,
      "outputs": [
        {
          "output_type": "execute_result",
          "data": {
            "text/plain": [
              "SVR(C=1.0, cache_size=200, coef0=0.0, degree=3, epsilon=0.1,\n",
              "    gamma='auto_deprecated', kernel='rbf', max_iter=-1, shrinking=True,\n",
              "    tol=0.001, verbose=False)"
            ]
          },
          "metadata": {
            "tags": []
          },
          "execution_count": 161
        }
      ]
    },
    {
      "cell_type": "code",
      "metadata": {
        "id": "CrfC_ICjcTWI",
        "colab": {
          "base_uri": "https://localhost:8080/",
          "height": 34
        },
        "outputId": "fc314d6b-1e97-4f0b-e8d3-09bc707ce6f3"
      },
      "source": [
        "Xt = sc_X.fit_transform(X_test)\n",
        "y_pred = sc_y.inverse_transform(regressor.predict(Xt))\n",
        "print('Root Mean Squared Error:', np.sqrt(metrics.mean_squared_error(y_test, y_pred)))"
      ],
      "execution_count": null,
      "outputs": [
        {
          "output_type": "stream",
          "text": [
            "Root Mean Squared Error: 1185.00031649525\n"
          ],
          "name": "stdout"
        }
      ]
    },
    {
      "cell_type": "code",
      "metadata": {
        "id": "4c_46pNCMyDT",
        "colab": {
          "base_uri": "https://localhost:8080/",
          "height": 156
        },
        "outputId": "302a292d-1733-4ad2-eac7-46f98981788d"
      },
      "source": [
        "df1 = pd.read_csv(\"Test_Kaggle(1).csv\")\n",
        "\n",
        "df1=df1.drop('Year',axis=1)\n",
        "df1=df1.drop('Month',axis=1)\n",
        "df1=df1.drop('Sales',axis=1)\n",
        "df1.head()\n",
        "Y_testing=regressor.predict(df1)\n",
        "print(Y_testing)\n",
        "sub=pd.read_csv(\"Sample_Submission.csv\")\n",
        "sub['Sales(In ThousandDollars)']=Y_testing\n",
        "sub.to_csv(\"final.csv\")\n"
      ],
      "execution_count": null,
      "outputs": [
        {
          "output_type": "stream",
          "text": [
            "[4100.12833026  641.24158459 1328.06641462 4068.54148272  630.82797341\n",
            " 1314.2351039  4116.10103247  674.50624748 1332.45564201 4149.3334756\n",
            "  718.45632112 1313.4067874  4174.23539868  716.85312794 1290.52028864\n",
            " 4152.99835159  712.57348552 1309.85296497 4135.77372592  703.29732183\n",
            " 1289.49251895 4138.51850884  731.07518162 1315.12041492 4143.28279455\n",
            "  717.17171129 1315.8221161  4161.60682994  734.98037878 1304.40424647\n",
            " 4149.39541856  724.09147    1298.819286   4540.65053946 1035.76123196\n",
            " 1566.07946595]\n"
          ],
          "name": "stdout"
        }
      ]
    },
    {
      "cell_type": "code",
      "metadata": {
        "id": "zNnswIrsNZ7T"
      },
      "source": [
        "from keras.callbacks import ModelCheckpoint\n",
        "from keras.models import Sequential\n",
        "from keras.layers import Dense, Activation, Flatten\n",
        "from sklearn.model_selection import train_test_split\n",
        "from sklearn.ensemble import RandomForestRegressor\n",
        "from sklearn.metrics import mean_absolute_error \n",
        "from matplotlib import pyplot as plt\n",
        "import seaborn as sb\n",
        "import matplotlib.pyplot as plt\n",
        "import pandas as pd\n",
        "import numpy as np\n",
        "import warnings \n",
        "warnings.filterwarnings('ignore')\n",
        "warnings.filterwarnings('ignore', category=DeprecationWarning)\n",
        "from xgboost import XGBRegressor"
      ],
      "execution_count": null,
      "outputs": []
    },
    {
      "cell_type": "code",
      "metadata": {
        "id": "D8G-axSsY2V6",
        "colab": {
          "base_uri": "https://localhost:8080/",
          "height": 384
        },
        "outputId": "5f55a05e-3dae-4e66-c67b-e0f868879bb8"
      },
      "source": [
        "NN_model = Sequential()\n",
        "\n",
        "# The Input Layer :\n",
        "NN_model.add(Dense(128, kernel_initializer='normal',input_dim = X_train.shape[1], activation='relu'))\n",
        "\n",
        "# The Hidden Layers :\n",
        "NN_model.add(Dense(256, kernel_initializer='normal',activation='relu'))\n",
        "NN_model.add(Dense(256, kernel_initializer='normal',activation='relu'))\n",
        "NN_model.add(Dense(256, kernel_initializer='normal',activation='relu'))\n",
        "\n",
        "# The Output Layer :\n",
        "NN_model.add(Dense(1, kernel_initializer='normal',activation='linear'))\n",
        "\n",
        "# Compile the network :\n",
        "NN_model.compile(loss='mean_absolute_error', optimizer='adam', metrics=['mean_absolute_error'])\n",
        "NN_model.summary()"
      ],
      "execution_count": null,
      "outputs": [
        {
          "output_type": "stream",
          "text": [
            "WARNING:tensorflow:From /usr/local/lib/python3.6/dist-packages/keras/backend/tensorflow_backend.py:4409: The name tf.random_normal is deprecated. Please use tf.random.normal instead.\n",
            "\n",
            "Model: \"sequential_8\"\n",
            "_________________________________________________________________\n",
            "Layer (type)                 Output Shape              Param #   \n",
            "=================================================================\n",
            "dense_11 (Dense)             (None, 128)               2048      \n",
            "_________________________________________________________________\n",
            "dense_12 (Dense)             (None, 256)               33024     \n",
            "_________________________________________________________________\n",
            "dense_13 (Dense)             (None, 256)               65792     \n",
            "_________________________________________________________________\n",
            "dense_14 (Dense)             (None, 256)               65792     \n",
            "_________________________________________________________________\n",
            "dense_15 (Dense)             (None, 1)                 257       \n",
            "=================================================================\n",
            "Total params: 166,913\n",
            "Trainable params: 166,913\n",
            "Non-trainable params: 0\n",
            "_________________________________________________________________\n"
          ],
          "name": "stdout"
        }
      ]
    },
    {
      "cell_type": "code",
      "metadata": {
        "id": "XqJiBR93Y8rJ"
      },
      "source": [
        "NN_model.fit(X_train, y_train, epochs=1000, validation_split = 0.1)"
      ],
      "execution_count": null,
      "outputs": []
    },
    {
      "cell_type": "code",
      "metadata": {
        "id": "k4Z0UFhDZMsp",
        "colab": {
          "base_uri": "https://localhost:8080/",
          "height": 34
        },
        "outputId": "2e935af7-3a65-4583-9cec-51be1de83b5e"
      },
      "source": [
        "y_pred=NN_model.predict(X_test)\n",
        "print('Root Mean Squared Error:', np.sqrt(metrics.mean_squared_error(y_test, y_pred)))"
      ],
      "execution_count": null,
      "outputs": [
        {
          "output_type": "stream",
          "text": [
            "Root Mean Squared Error: 1186.9328039523366\n"
          ],
          "name": "stdout"
        }
      ]
    },
    {
      "cell_type": "code",
      "metadata": {
        "id": "zWe1AUPJaDW_"
      },
      "source": [
        ""
      ],
      "execution_count": null,
      "outputs": []
    }
  ]
}